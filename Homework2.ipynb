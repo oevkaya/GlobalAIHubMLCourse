{
  "nbformat": 4,
  "nbformat_minor": 0,
  "metadata": {
    "colab": {
      "name": "Untitled1.ipynb",
      "provenance": []
    },
    "kernelspec": {
      "name": "python3",
      "display_name": "Python 3"
    }
  },
  "cells": [
    {
      "cell_type": "markdown",
      "metadata": {
        "id": "Xihho5_DC0_c"
      },
      "source": [
        "\r\n",
        "\r\n",
        "```\r\n",
        "# Getting and loading data set\r\n",
        "```\r\n",
        "\r\n"
      ]
    },
    {
      "cell_type": "code",
      "metadata": {
        "colab": {
          "base_uri": "https://localhost:8080/"
        },
        "id": "YB1v3JoBCz2Q",
        "outputId": "340fb456-5583-474d-a545-77dfadabaf7d"
      },
      "source": [
        "from sklearn.datasets import load_boston\r\n",
        "boston = load_boston()\r\n",
        "print( \"type of boston = \", type(boston))"
      ],
      "execution_count": 1,
      "outputs": [
        {
          "output_type": "stream",
          "text": [
            "type of boston =  <class 'sklearn.utils.Bunch'>\n"
          ],
          "name": "stdout"
        }
      ]
    },
    {
      "cell_type": "code",
      "metadata": {
        "id": "dRHz4S-cC-Oq"
      },
      "source": [
        "#importing the necessary libraries such as numpy, pandas, matplotlib and seaborn\r\n",
        "import numpy as np\r\n",
        "import pandas as pd\r\n",
        "import matplotlib.pyplot as plt\r\n",
        "import seaborn as sns"
      ],
      "execution_count": 3,
      "outputs": []
    },
    {
      "cell_type": "code",
      "metadata": {
        "colab": {
          "base_uri": "https://localhost:8080/"
        },
        "id": "NQx385CVDEDB",
        "outputId": "affaad5d-2465-4c08-fd86-4a4a53193b9e"
      },
      "source": [
        "# To explore the data set\r\n",
        "#the boston data has dataset, target, features, description and a filename\r\n",
        "boston.keys()\r\n",
        "# The data is given as array below\r\n",
        "boston.data"
      ],
      "execution_count": 4,
      "outputs": [
        {
          "output_type": "execute_result",
          "data": {
            "text/plain": [
              "array([[6.3200e-03, 1.8000e+01, 2.3100e+00, ..., 1.5300e+01, 3.9690e+02,\n",
              "        4.9800e+00],\n",
              "       [2.7310e-02, 0.0000e+00, 7.0700e+00, ..., 1.7800e+01, 3.9690e+02,\n",
              "        9.1400e+00],\n",
              "       [2.7290e-02, 0.0000e+00, 7.0700e+00, ..., 1.7800e+01, 3.9283e+02,\n",
              "        4.0300e+00],\n",
              "       ...,\n",
              "       [6.0760e-02, 0.0000e+00, 1.1930e+01, ..., 2.1000e+01, 3.9690e+02,\n",
              "        5.6400e+00],\n",
              "       [1.0959e-01, 0.0000e+00, 1.1930e+01, ..., 2.1000e+01, 3.9345e+02,\n",
              "        6.4800e+00],\n",
              "       [4.7410e-02, 0.0000e+00, 1.1930e+01, ..., 2.1000e+01, 3.9690e+02,\n",
              "        7.8800e+00]])"
            ]
          },
          "metadata": {
            "tags": []
          },
          "execution_count": 4
        }
      ]
    },
    {
      "cell_type": "code",
      "metadata": {
        "colab": {
          "base_uri": "https://localhost:8080/"
        },
        "id": "BFVlAY1hDAgh",
        "outputId": "d5e6fce1-5ed9-49fd-8833-58185d515263"
      },
      "source": [
        "# We can check the feature names as well\r\n",
        "boston.feature_names"
      ],
      "execution_count": 5,
      "outputs": [
        {
          "output_type": "execute_result",
          "data": {
            "text/plain": [
              "array(['CRIM', 'ZN', 'INDUS', 'CHAS', 'NOX', 'RM', 'AGE', 'DIS', 'RAD',\n",
              "       'TAX', 'PTRATIO', 'B', 'LSTAT'], dtype='<U7')"
            ]
          },
          "metadata": {
            "tags": []
          },
          "execution_count": 5
        }
      ]
    },
    {
      "cell_type": "code",
      "metadata": {
        "colab": {
          "base_uri": "https://localhost:8080/"
        },
        "id": "MQ_EZ9uJDQwv",
        "outputId": "19e56f78-6b5f-4f24-920b-a610ec433eac"
      },
      "source": [
        "# To get more information about the data set we can use \r\n",
        "print(boston.DESCR)"
      ],
      "execution_count": 6,
      "outputs": [
        {
          "output_type": "stream",
          "text": [
            ".. _boston_dataset:\n",
            "\n",
            "Boston house prices dataset\n",
            "---------------------------\n",
            "\n",
            "**Data Set Characteristics:**  \n",
            "\n",
            "    :Number of Instances: 506 \n",
            "\n",
            "    :Number of Attributes: 13 numeric/categorical predictive. Median Value (attribute 14) is usually the target.\n",
            "\n",
            "    :Attribute Information (in order):\n",
            "        - CRIM     per capita crime rate by town\n",
            "        - ZN       proportion of residential land zoned for lots over 25,000 sq.ft.\n",
            "        - INDUS    proportion of non-retail business acres per town\n",
            "        - CHAS     Charles River dummy variable (= 1 if tract bounds river; 0 otherwise)\n",
            "        - NOX      nitric oxides concentration (parts per 10 million)\n",
            "        - RM       average number of rooms per dwelling\n",
            "        - AGE      proportion of owner-occupied units built prior to 1940\n",
            "        - DIS      weighted distances to five Boston employment centres\n",
            "        - RAD      index of accessibility to radial highways\n",
            "        - TAX      full-value property-tax rate per $10,000\n",
            "        - PTRATIO  pupil-teacher ratio by town\n",
            "        - B        1000(Bk - 0.63)^2 where Bk is the proportion of blacks by town\n",
            "        - LSTAT    % lower status of the population\n",
            "        - MEDV     Median value of owner-occupied homes in $1000's\n",
            "\n",
            "    :Missing Attribute Values: None\n",
            "\n",
            "    :Creator: Harrison, D. and Rubinfeld, D.L.\n",
            "\n",
            "This is a copy of UCI ML housing dataset.\n",
            "https://archive.ics.uci.edu/ml/machine-learning-databases/housing/\n",
            "\n",
            "\n",
            "This dataset was taken from the StatLib library which is maintained at Carnegie Mellon University.\n",
            "\n",
            "The Boston house-price data of Harrison, D. and Rubinfeld, D.L. 'Hedonic\n",
            "prices and the demand for clean air', J. Environ. Economics & Management,\n",
            "vol.5, 81-102, 1978.   Used in Belsley, Kuh & Welsch, 'Regression diagnostics\n",
            "...', Wiley, 1980.   N.B. Various transformations are used in the table on\n",
            "pages 244-261 of the latter.\n",
            "\n",
            "The Boston house-price data has been used in many machine learning papers that address regression\n",
            "problems.   \n",
            "     \n",
            ".. topic:: References\n",
            "\n",
            "   - Belsley, Kuh & Welsch, 'Regression diagnostics: Identifying Influential Data and Sources of Collinearity', Wiley, 1980. 244-261.\n",
            "   - Quinlan,R. (1993). Combining Instance-Based and Model-Based Learning. In Proceedings on the Tenth International Conference of Machine Learning, 236-243, University of Massachusetts, Amherst. Morgan Kaufmann.\n",
            "\n"
          ],
          "name": "stdout"
        }
      ]
    },
    {
      "cell_type": "code",
      "metadata": {
        "colab": {
          "base_uri": "https://localhost:8080/"
        },
        "id": "kAj-3qBRDSCm",
        "outputId": "eea73742-a0de-4026-d8e9-8247cb26b56b"
      },
      "source": [
        "#The dataset contains 14 attributes (13 numeric/categorical predictive). \r\n",
        "#there are 506 instances(rows). there are no missing data (Missing Attribute Values: None). \r\n",
        "#Since only predictives below, 13 attributes is observed\r\n",
        "print(boston.data.shape)"
      ],
      "execution_count": 20,
      "outputs": [
        {
          "output_type": "stream",
          "text": [
            "(506, 13)\n"
          ],
          "name": "stdout"
        }
      ]
    },
    {
      "cell_type": "code",
      "metadata": {
        "colab": {
          "base_uri": "https://localhost:8080/"
        },
        "id": "dCniEV4_Dbku",
        "outputId": "f0044b68-07a3-467b-ad81-f4bdc39e4ae7"
      },
      "source": [
        "# To get further information we need to convert it into pandas data frame as\r\n",
        "# First predictive values \r\n",
        "boston_predictors = pd.DataFrame(boston.data, columns = boston.feature_names)\r\n",
        "print(boston_predictors)"
      ],
      "execution_count": 8,
      "outputs": [
        {
          "output_type": "stream",
          "text": [
            "        CRIM    ZN  INDUS  CHAS    NOX  ...  RAD    TAX  PTRATIO       B  LSTAT\n",
            "0    0.00632  18.0   2.31   0.0  0.538  ...  1.0  296.0     15.3  396.90   4.98\n",
            "1    0.02731   0.0   7.07   0.0  0.469  ...  2.0  242.0     17.8  396.90   9.14\n",
            "2    0.02729   0.0   7.07   0.0  0.469  ...  2.0  242.0     17.8  392.83   4.03\n",
            "3    0.03237   0.0   2.18   0.0  0.458  ...  3.0  222.0     18.7  394.63   2.94\n",
            "4    0.06905   0.0   2.18   0.0  0.458  ...  3.0  222.0     18.7  396.90   5.33\n",
            "..       ...   ...    ...   ...    ...  ...  ...    ...      ...     ...    ...\n",
            "501  0.06263   0.0  11.93   0.0  0.573  ...  1.0  273.0     21.0  391.99   9.67\n",
            "502  0.04527   0.0  11.93   0.0  0.573  ...  1.0  273.0     21.0  396.90   9.08\n",
            "503  0.06076   0.0  11.93   0.0  0.573  ...  1.0  273.0     21.0  396.90   5.64\n",
            "504  0.10959   0.0  11.93   0.0  0.573  ...  1.0  273.0     21.0  393.45   6.48\n",
            "505  0.04741   0.0  11.93   0.0  0.573  ...  1.0  273.0     21.0  396.90   7.88\n",
            "\n",
            "[506 rows x 13 columns]\n"
          ],
          "name": "stdout"
        }
      ]
    },
    {
      "cell_type": "code",
      "metadata": {
        "colab": {
          "base_uri": "https://localhost:8080/"
        },
        "id": "o1dHEeKwDesS",
        "outputId": "5dd57bfb-b655-4cbd-c891-a69f46596795"
      },
      "source": [
        "#Then for the outcome is the target\r\n",
        "boston_target = pd.DataFrame(boston.target, columns = ['target'])\r\n",
        "print(boston_target)"
      ],
      "execution_count": 14,
      "outputs": [
        {
          "output_type": "stream",
          "text": [
            "     target\n",
            "0      24.0\n",
            "1      21.6\n",
            "2      34.7\n",
            "3      33.4\n",
            "4      36.2\n",
            "..      ...\n",
            "501    22.4\n",
            "502    20.6\n",
            "503    23.9\n",
            "504    22.0\n",
            "505    11.9\n",
            "\n",
            "[506 rows x 1 columns]\n"
          ],
          "name": "stdout"
        }
      ]
    },
    {
      "cell_type": "code",
      "metadata": {
        "colab": {
          "base_uri": "https://localhost:8080/"
        },
        "id": "ELRrSXL5DhVp",
        "outputId": "36e03378-caef-4221-e796-cf5d9c37ce61"
      },
      "source": [
        "# To combine both as a data frame\r\n",
        "boston_predictors_target = boston_predictors.join(boston_target)\r\n",
        "#No missing value\r\n",
        "print(boston_predictors_target.isna().sum())\r\n",
        "#to see the first 5 values from the new data set \r\n",
        "print(boston_predictors_target.head())\r\n",
        "# Variable information as type \r\n",
        "print(boston_predictors_target.info())"
      ],
      "execution_count": 21,
      "outputs": [
        {
          "output_type": "stream",
          "text": [
            "CRIM       0\n",
            "ZN         0\n",
            "INDUS      0\n",
            "CHAS       0\n",
            "NOX        0\n",
            "RM         0\n",
            "AGE        0\n",
            "DIS        0\n",
            "RAD        0\n",
            "TAX        0\n",
            "PTRATIO    0\n",
            "B          0\n",
            "LSTAT      0\n",
            "target     0\n",
            "dtype: int64\n",
            "      CRIM    ZN  INDUS  CHAS    NOX  ...    TAX  PTRATIO       B  LSTAT  target\n",
            "0  0.00632  18.0   2.31   0.0  0.538  ...  296.0     15.3  396.90   4.98    24.0\n",
            "1  0.02731   0.0   7.07   0.0  0.469  ...  242.0     17.8  396.90   9.14    21.6\n",
            "2  0.02729   0.0   7.07   0.0  0.469  ...  242.0     17.8  392.83   4.03    34.7\n",
            "3  0.03237   0.0   2.18   0.0  0.458  ...  222.0     18.7  394.63   2.94    33.4\n",
            "4  0.06905   0.0   2.18   0.0  0.458  ...  222.0     18.7  396.90   5.33    36.2\n",
            "\n",
            "[5 rows x 14 columns]\n",
            "<class 'pandas.core.frame.DataFrame'>\n",
            "RangeIndex: 506 entries, 0 to 505\n",
            "Data columns (total 14 columns):\n",
            " #   Column   Non-Null Count  Dtype  \n",
            "---  ------   --------------  -----  \n",
            " 0   CRIM     506 non-null    float64\n",
            " 1   ZN       506 non-null    float64\n",
            " 2   INDUS    506 non-null    float64\n",
            " 3   CHAS     506 non-null    float64\n",
            " 4   NOX      506 non-null    float64\n",
            " 5   RM       506 non-null    float64\n",
            " 6   AGE      506 non-null    float64\n",
            " 7   DIS      506 non-null    float64\n",
            " 8   RAD      506 non-null    float64\n",
            " 9   TAX      506 non-null    float64\n",
            " 10  PTRATIO  506 non-null    float64\n",
            " 11  B        506 non-null    float64\n",
            " 12  LSTAT    506 non-null    float64\n",
            " 13  target   506 non-null    float64\n",
            "dtypes: float64(14)\n",
            "memory usage: 55.5 KB\n",
            "None\n"
          ],
          "name": "stdout"
        }
      ]
    },
    {
      "cell_type": "code",
      "metadata": {
        "id": "yhMs5M-lDk0b"
      },
      "source": [
        "#Consider the descriptive statistics for the data set \r\n",
        "boston_predictors_target.describe()"
      ],
      "execution_count": null,
      "outputs": []
    },
    {
      "cell_type": "code",
      "metadata": {
        "colab": {
          "base_uri": "https://localhost:8080/",
          "height": 395
        },
        "id": "S7Ask1PyDsuV",
        "outputId": "5f56f905-9b69-494a-aaf0-5e742e6de0b0"
      },
      "source": [
        "#Consider the correlation plot to understand the possible predictors for the target output under linear regression model\r\n",
        "plt.figure(figsize = (12,6))\r\n",
        "sns.heatmap(boston_predictors_target.corr(), annot = True)"
      ],
      "execution_count": 12,
      "outputs": [
        {
          "output_type": "execute_result",
          "data": {
            "text/plain": [
              "<matplotlib.axes._subplots.AxesSubplot at 0x7f2fa38fa470>"
            ]
          },
          "metadata": {
            "tags": []
          },
          "execution_count": 12
        },
        {
          "output_type": "display_data",
          "data": {
            "image/png": "[encoded data removed]",
            "text/plain": [
              "<Figure size 864x432 with 2 Axes>"
            ]
          },
          "metadata": {
            "tags": [],
            "needs_background": "light"
          }
        }
      ]
    },
    {
      "cell_type": "code",
      "metadata": {
        "id": "Ld-vWu_MD815"
      },
      "source": [
        "#If we focus on the last row or last column about the correlation between target and other predictors;\r\n",
        "#Most of the attributes has significant correlation with target, lowest one belongs to CHAS (0.18) and highest positive one belongs to RM (0.7)\r\n",
        "#highest negative one belongs to LSTAT (-0.74)\r\n",
        "#Among 13 predictive features 8 of them have negative correlation with target, meanwhile 5 of them have positive correlation with target value\r\n",
        "# This part is also important to identify multi collinearity to make reasonable reduction on the predictors"
      ],
      "execution_count": 18,
      "outputs": []
    },
    {
      "cell_type": "code",
      "metadata": {
        "id": "CzL87jOIFaVg"
      },
      "source": [
        "# Linear Regression With scikit-learn \r\n",
        "\r\n",
        "import numpy as np\r\n",
        "from sklearn.linear_model import LinearRegression\r\n",
        "\r\n",
        "from sklearn.model_selection import train_test_split\r\n",
        "Xb,yb =load_boston(return_X_y=True)\r\n",
        "X_train, X_test, y_train, y_test = train_test_split(Xb, yb, test_size=0.3, random_state=42)"
      ],
      "execution_count": 43,
      "outputs": []
    },
    {
      "cell_type": "code",
      "metadata": {
        "colab": {
          "base_uri": "https://localhost:8080/"
        },
        "id": "-_WLhPOWMkEE",
        "outputId": "190e6299-acdd-4278-87f9-2aa29d39d63e"
      },
      "source": [
        "# Fitting model using all predictors\r\n",
        "modelb = LinearRegression(normalize=False)\r\n",
        "modelb.fit(X_train,y_train)\r\n",
        "\r\n",
        "print(\"Score of the train set\",modelb.score(X_train,y_train))\r\n",
        "print(\"Score of the test set\",modelb.score(X_test,y_test))\r\n",
        "\r\n",
        "#Define adjusted R square for the model \r\n",
        "\r\n",
        "def adj_r2 (X,y,model):\r\n",
        "    r_squared = model.score(X,y)\r\n",
        "    return(1 - (1-r_squared)*(len(y)-1)/(len(y)-X.shape[1]-1))\r\n",
        "\r\n",
        "print(\"Adj. R2 of the train set\",adj_r2(X_train,y_train,modelb))\r\n",
        "print(\"Adj. R2 of the test set\",adj_r2(X_test,y_test,modelb))\r\n",
        "\r\n",
        "importance = modelb.coef_\r\n",
        "for i in range(len(importance)):\r\n",
        "    print(\"Feature\", boston_predictors.columns[i], \"Score:\", importance[i])"
      ],
      "execution_count": 47,
      "outputs": [
        {
          "output_type": "stream",
          "text": [
            "Score of the train set 0.7434997532004697\n",
            "Score of the test set 0.7112260057484974\n",
            "Adj. R2 of the train set 0.7336923908228405\n",
            "Adj. R2 of the test set 0.6840226584639355\n",
            "Feature CRIM Score: -0.13347010285294458\n",
            "Feature ZN Score: 0.03580891359323345\n",
            "Feature INDUS Score: 0.04952264522005847\n",
            "Feature CHAS Score: 3.119835116285383\n",
            "Feature NOX Score: -15.417060895306879\n",
            "Feature RM Score: 4.057199231645367\n",
            "Feature AGE Score: -0.010820835184929722\n",
            "Feature DIS Score: -1.3859982431608764\n",
            "Feature RAD Score: 0.24272733982224778\n",
            "Feature TAX Score: -0.008702234365662913\n",
            "Feature PTRATIO Score: -0.9106852081102895\n",
            "Feature B Score: 0.011794115892569896\n",
            "Feature LSTAT Score: -0.5471133128239618\n"
          ],
          "name": "stdout"
        }
      ]
    },
    {
      "cell_type": "code",
      "metadata": {
        "id": "B_kubJx0NWb9"
      },
      "source": [
        "# Dropping features having large correlations as an example \r\n",
        "new_boston_predictors = boston_predictors.drop([\"INDUS\", \"AGE\" ],axis=1)"
      ],
      "execution_count": 53,
      "outputs": []
    },
    {
      "cell_type": "code",
      "metadata": {
        "colab": {
          "base_uri": "https://localhost:8080/"
        },
        "id": "2wr9dCzyNoWc",
        "outputId": "4ff677ed-f079-4a13-82b4-61709334b77d"
      },
      "source": [
        "X_train, X_test, y_train, y_test = train_test_split(new_boston_predictors, yb, test_size=0.3, random_state=42)\r\n",
        "modelb = LinearRegression(normalize=True)\r\n",
        "modelb.fit(X_train,y_train)\r\n",
        "print(\"Score of the train set\",modelb.score(X_train,y_train))\r\n",
        "print(\"Score of the test set\",modelb.score(X_test,y_test))"
      ],
      "execution_count": 54,
      "outputs": [
        {
          "output_type": "stream",
          "text": [
            "Score of the train set 0.7428288884259309\n",
            "Score of the test set 0.7149039348907361\n"
          ],
          "name": "stdout"
        }
      ]
    },
    {
      "cell_type": "code",
      "metadata": {
        "colab": {
          "base_uri": "https://localhost:8080/"
        },
        "id": "cLZS0G0eNwj6",
        "outputId": "eefd749b-6a09-4a6c-ffb8-7598ac95f0e5"
      },
      "source": [
        "print(\"Adj. R2 of the train set\",adj_r2(X_train,y_train,modelb))\r\n",
        "print(\"Adj. R2 of the test set\",adj_r2(X_test,y_test,modelb))"
      ],
      "execution_count": 55,
      "outputs": [
        {
          "output_type": "stream",
          "text": [
            "Adj. R2 of the train set 0.7345573029659462\n",
            "Adj. R2 of the test set 0.6925035297750082\n"
          ],
          "name": "stdout"
        }
      ]
    },
    {
      "cell_type": "code",
      "metadata": {
        "colab": {
          "base_uri": "https://localhost:8080/",
          "height": 537
        },
        "id": "Kzie5ZIaOWnx",
        "outputId": "a0bcbf77-72d2-40cc-f38d-291a435be96d"
      },
      "source": [
        "# Considerin possible outliers\r\n",
        "# Outlier detection with Z-Score and remove them \r\n",
        "from scipy import stats\r\n",
        "import numpy as np\r\n",
        "z = np.abs(stats.zscore(boston_predictors))\r\n",
        "print(z)\r\n",
        "len(np.where(z > 3)[0])\r\n",
        "\r\n",
        "outliers = list(set(np.where(z > 3)[0]))\r\n",
        "new_boston_predictors = boston_predictors.drop(outliers, axis = 0).reset_index(drop = False)\r\n",
        "display(new_boston_predictors)\r\n",
        "\r\n",
        "# New target based on removed outliers\r\n",
        "y_target = yb[list(new_boston_predictors[\"index\"])]\r\n",
        "len(y_target)"
      ],
      "execution_count": 59,
      "outputs": [
        {
          "output_type": "stream",
          "text": [
            "[[0.41978194 0.28482986 1.2879095  ... 1.45900038 0.44105193 1.0755623 ]\n",
            " [0.41733926 0.48772236 0.59338101 ... 0.30309415 0.44105193 0.49243937]\n",
            " [0.41734159 0.48772236 0.59338101 ... 0.30309415 0.39642699 1.2087274 ]\n",
            " ...\n",
            " [0.41344658 0.48772236 0.11573841 ... 1.17646583 0.44105193 0.98304761]\n",
            " [0.40776407 0.48772236 0.11573841 ... 1.17646583 0.4032249  0.86530163]\n",
            " [0.41500016 0.48772236 0.11573841 ... 1.17646583 0.44105193 0.66905833]]\n"
          ],
          "name": "stdout"
        },
        {
          "output_type": "display_data",
          "data": {
            "text/html": [
              "<div>\n",
              "<style scoped>\n",
              "    .dataframe tbody tr th:only-of-type {\n",
              "        vertical-align: middle;\n",
              "    }\n",
              "\n",
              "    .dataframe tbody tr th {\n",
              "        vertical-align: top;\n",
              "    }\n",
              "\n",
              "    .dataframe thead th {\n",
              "        text-align: right;\n",
              "    }\n",
              "</style>\n",
              "<table border=\"1\" class=\"dataframe\">\n",
              "  <thead>\n",
              "    <tr style=\"text-align: right;\">\n",
              "      <th></th>\n",
              "      <th>index</th>\n",
              "      <th>CRIM</th>\n",
              "      <th>ZN</th>\n",
              "      <th>INDUS</th>\n",
              "      <th>CHAS</th>\n",
              "      <th>NOX</th>\n",
              "      <th>RM</th>\n",
              "      <th>AGE</th>\n",
              "      <th>DIS</th>\n",
              "      <th>RAD</th>\n",
              "      <th>TAX</th>\n",
              "      <th>PTRATIO</th>\n",
              "      <th>B</th>\n",
              "      <th>LSTAT</th>\n",
              "    </tr>\n",
              "  </thead>\n",
              "  <tbody>\n",
              "    <tr>\n",
              "      <th>0</th>\n",
              "      <td>0</td>\n",
              "      <td>0.00632</td>\n",
              "      <td>18.0</td>\n",
              "      <td>2.31</td>\n",
              "      <td>0.0</td>\n",
              "      <td>0.538</td>\n",
              "      <td>6.575</td>\n",
              "      <td>65.2</td>\n",
              "      <td>4.0900</td>\n",
              "      <td>1.0</td>\n",
              "      <td>296.0</td>\n",
              "      <td>15.3</td>\n",
              "      <td>396.90</td>\n",
              "      <td>4.98</td>\n",
              "    </tr>\n",
              "    <tr>\n",
              "      <th>1</th>\n",
              "      <td>1</td>\n",
              "      <td>0.02731</td>\n",
              "      <td>0.0</td>\n",
              "      <td>7.07</td>\n",
              "      <td>0.0</td>\n",
              "      <td>0.469</td>\n",
              "      <td>6.421</td>\n",
              "      <td>78.9</td>\n",
              "      <td>4.9671</td>\n",
              "      <td>2.0</td>\n",
              "      <td>242.0</td>\n",
              "      <td>17.8</td>\n",
              "      <td>396.90</td>\n",
              "      <td>9.14</td>\n",
              "    </tr>\n",
              "    <tr>\n",
              "      <th>2</th>\n",
              "      <td>2</td>\n",
              "      <td>0.02729</td>\n",
              "      <td>0.0</td>\n",
              "      <td>7.07</td>\n",
              "      <td>0.0</td>\n",
              "      <td>0.469</td>\n",
              "      <td>7.185</td>\n",
              "      <td>61.1</td>\n",
              "      <td>4.9671</td>\n",
              "      <td>2.0</td>\n",
              "      <td>242.0</td>\n",
              "      <td>17.8</td>\n",
              "      <td>392.83</td>\n",
              "      <td>4.03</td>\n",
              "    </tr>\n",
              "    <tr>\n",
              "      <th>3</th>\n",
              "      <td>3</td>\n",
              "      <td>0.03237</td>\n",
              "      <td>0.0</td>\n",
              "      <td>2.18</td>\n",
              "      <td>0.0</td>\n",
              "      <td>0.458</td>\n",
              "      <td>6.998</td>\n",
              "      <td>45.8</td>\n",
              "      <td>6.0622</td>\n",
              "      <td>3.0</td>\n",
              "      <td>222.0</td>\n",
              "      <td>18.7</td>\n",
              "      <td>394.63</td>\n",
              "      <td>2.94</td>\n",
              "    </tr>\n",
              "    <tr>\n",
              "      <th>4</th>\n",
              "      <td>4</td>\n",
              "      <td>0.06905</td>\n",
              "      <td>0.0</td>\n",
              "      <td>2.18</td>\n",
              "      <td>0.0</td>\n",
              "      <td>0.458</td>\n",
              "      <td>7.147</td>\n",
              "      <td>54.2</td>\n",
              "      <td>6.0622</td>\n",
              "      <td>3.0</td>\n",
              "      <td>222.0</td>\n",
              "      <td>18.7</td>\n",
              "      <td>396.90</td>\n",
              "      <td>5.33</td>\n",
              "    </tr>\n",
              "    <tr>\n",
              "      <th>...</th>\n",
              "      <td>...</td>\n",
              "      <td>...</td>\n",
              "      <td>...</td>\n",
              "      <td>...</td>\n",
              "      <td>...</td>\n",
              "      <td>...</td>\n",
              "      <td>...</td>\n",
              "      <td>...</td>\n",
              "      <td>...</td>\n",
              "      <td>...</td>\n",
              "      <td>...</td>\n",
              "      <td>...</td>\n",
              "      <td>...</td>\n",
              "      <td>...</td>\n",
              "    </tr>\n",
              "    <tr>\n",
              "      <th>410</th>\n",
              "      <td>501</td>\n",
              "      <td>0.06263</td>\n",
              "      <td>0.0</td>\n",
              "      <td>11.93</td>\n",
              "      <td>0.0</td>\n",
              "      <td>0.573</td>\n",
              "      <td>6.593</td>\n",
              "      <td>69.1</td>\n",
              "      <td>2.4786</td>\n",
              "      <td>1.0</td>\n",
              "      <td>273.0</td>\n",
              "      <td>21.0</td>\n",
              "      <td>391.99</td>\n",
              "      <td>9.67</td>\n",
              "    </tr>\n",
              "    <tr>\n",
              "      <th>411</th>\n",
              "      <td>502</td>\n",
              "      <td>0.04527</td>\n",
              "      <td>0.0</td>\n",
              "      <td>11.93</td>\n",
              "      <td>0.0</td>\n",
              "      <td>0.573</td>\n",
              "      <td>6.120</td>\n",
              "      <td>76.7</td>\n",
              "      <td>2.2875</td>\n",
              "      <td>1.0</td>\n",
              "      <td>273.0</td>\n",
              "      <td>21.0</td>\n",
              "      <td>396.90</td>\n",
              "      <td>9.08</td>\n",
              "    </tr>\n",
              "    <tr>\n",
              "      <th>412</th>\n",
              "      <td>503</td>\n",
              "      <td>0.06076</td>\n",
              "      <td>0.0</td>\n",
              "      <td>11.93</td>\n",
              "      <td>0.0</td>\n",
              "      <td>0.573</td>\n",
              "      <td>6.976</td>\n",
              "      <td>91.0</td>\n",
              "      <td>2.1675</td>\n",
              "      <td>1.0</td>\n",
              "      <td>273.0</td>\n",
              "      <td>21.0</td>\n",
              "      <td>396.90</td>\n",
              "      <td>5.64</td>\n",
              "    </tr>\n",
              "    <tr>\n",
              "      <th>413</th>\n",
              "      <td>504</td>\n",
              "      <td>0.10959</td>\n",
              "      <td>0.0</td>\n",
              "      <td>11.93</td>\n",
              "      <td>0.0</td>\n",
              "      <td>0.573</td>\n",
              "      <td>6.794</td>\n",
              "      <td>89.3</td>\n",
              "      <td>2.3889</td>\n",
              "      <td>1.0</td>\n",
              "      <td>273.0</td>\n",
              "      <td>21.0</td>\n",
              "      <td>393.45</td>\n",
              "      <td>6.48</td>\n",
              "    </tr>\n",
              "    <tr>\n",
              "      <th>414</th>\n",
              "      <td>505</td>\n",
              "      <td>0.04741</td>\n",
              "      <td>0.0</td>\n",
              "      <td>11.93</td>\n",
              "      <td>0.0</td>\n",
              "      <td>0.573</td>\n",
              "      <td>6.030</td>\n",
              "      <td>80.8</td>\n",
              "      <td>2.5050</td>\n",
              "      <td>1.0</td>\n",
              "      <td>273.0</td>\n",
              "      <td>21.0</td>\n",
              "      <td>396.90</td>\n",
              "      <td>7.88</td>\n",
              "    </tr>\n",
              "  </tbody>\n",
              "</table>\n",
              "<p>415 rows × 14 columns</p>\n",
              "</div>"
            ],
            "text/plain": [
              "     index     CRIM    ZN  INDUS  CHAS  ...  RAD    TAX  PTRATIO       B  LSTAT\n",
              "0        0  0.00632  18.0   2.31   0.0  ...  1.0  296.0     15.3  396.90   4.98\n",
              "1        1  0.02731   0.0   7.07   0.0  ...  2.0  242.0     17.8  396.90   9.14\n",
              "2        2  0.02729   0.0   7.07   0.0  ...  2.0  242.0     17.8  392.83   4.03\n",
              "3        3  0.03237   0.0   2.18   0.0  ...  3.0  222.0     18.7  394.63   2.94\n",
              "4        4  0.06905   0.0   2.18   0.0  ...  3.0  222.0     18.7  396.90   5.33\n",
              "..     ...      ...   ...    ...   ...  ...  ...    ...      ...     ...    ...\n",
              "410    501  0.06263   0.0  11.93   0.0  ...  1.0  273.0     21.0  391.99   9.67\n",
              "411    502  0.04527   0.0  11.93   0.0  ...  1.0  273.0     21.0  396.90   9.08\n",
              "412    503  0.06076   0.0  11.93   0.0  ...  1.0  273.0     21.0  396.90   5.64\n",
              "413    504  0.10959   0.0  11.93   0.0  ...  1.0  273.0     21.0  393.45   6.48\n",
              "414    505  0.04741   0.0  11.93   0.0  ...  1.0  273.0     21.0  396.90   7.88\n",
              "\n",
              "[415 rows x 14 columns]"
            ]
          },
          "metadata": {
            "tags": []
          }
        }
      ]
    },
    {
      "cell_type": "code",
      "metadata": {
        "colab": {
          "base_uri": "https://localhost:8080/"
        },
        "id": "6pYi3b1JPAq0",
        "outputId": "e2d7e477-2c69-4e35-90db-3f8000e5fa46"
      },
      "source": [
        "predictors_new = new_boston_predictors.drop('index', axis = 1)\r\n",
        "\r\n",
        "from sklearn.preprocessing import StandardScaler, MinMaxScaler\r\n",
        "predictors_scaled = StandardScaler().fit_transform(predictors_new)\r\n",
        "predictors_scaled"
      ],
      "execution_count": 62,
      "outputs": [
        {
          "output_type": "execute_result",
          "data": {
            "text/plain": [
              "array([[-0.50009668,  0.42727822, -1.25466328, ..., -1.48379449,\n",
              "         0.43991388, -1.1282211 ],\n",
              "       [-0.49580542, -0.48858069, -0.55367539, ..., -0.312853  ,\n",
              "         0.43991388, -0.48493501],\n",
              "       [-0.49580951, -0.48858069, -0.55367539, ..., -0.312853  ,\n",
              "         0.36091635, -1.27512537],\n",
              "       ...,\n",
              "       [-0.4889668 , -0.48858069,  0.16203913, ...,  1.18595212,\n",
              "         0.43991388, -1.02616129],\n",
              "       [-0.47898384, -0.48858069,  0.16203913, ...,  1.18595212,\n",
              "         0.37295037, -0.89626698],\n",
              "       [-0.49169611, -0.48858069,  0.16203913, ...,  1.18595212,\n",
              "         0.43991388, -0.67977647]])"
            ]
          },
          "metadata": {
            "tags": []
          },
          "execution_count": 62
        }
      ]
    },
    {
      "cell_type": "code",
      "metadata": {
        "colab": {
          "base_uri": "https://localhost:8080/"
        },
        "id": "k6y7X660Pb_G",
        "outputId": "31c54e76-67f9-490d-c1bc-2ea3b1fb15aa"
      },
      "source": [
        "#Now consider the model over new data frame without outliers and the scaled values\r\n",
        "# Among the other options this has the largest score  \r\n",
        "# Outliers removed & scaling\r\n",
        "X_train, X_test, y_train, y_test = train_test_split(predictors_scaled, y_target, test_size=0.3, random_state=42)\r\n",
        "modelb = LinearRegression(normalize=False)\r\n",
        "modelb.fit(X_train,y_train)\r\n",
        "print(\"Score of the train set\",modelb.score(X_train,y_train))\r\n",
        "print(\"Score of the test set\",modelb.score(X_test,y_test))"
      ],
      "execution_count": 63,
      "outputs": [
        {
          "output_type": "stream",
          "text": [
            "Score of the train set 0.7598701100873174\n",
            "Score of the test set 0.6739782514175502\n"
          ],
          "name": "stdout"
        }
      ]
    },
    {
      "cell_type": "code",
      "metadata": {
        "colab": {
          "base_uri": "https://localhost:8080/"
        },
        "id": "_sSFve-ePtD-",
        "outputId": "ea048b79-46af-433f-e2a2-6475542a9624"
      },
      "source": [
        "print(\"Adj. R2 of the train set\",adj_r2(X_train,y_train,modelb))\r\n",
        "print(\"Adj. R2 of the test set\",adj_r2(X_test,y_test,modelb))"
      ],
      "execution_count": 64,
      "outputs": [
        {
          "output_type": "stream",
          "text": [
            "Adj. R2 of the train set 0.7485596442580968\n",
            "Adj. R2 of the test set 0.6357955241060922\n"
          ],
          "name": "stdout"
        }
      ]
    },
    {
      "cell_type": "code",
      "metadata": {
        "colab": {
          "base_uri": "https://localhost:8080/"
        },
        "id": "D22HItyYPwOD",
        "outputId": "bf6be387-5ac7-48d0-e85d-120927cfbde0"
      },
      "source": [
        "#Now consider regularization and fit \r\n",
        "#Import Linear Regression Machine Learning Libraries\r\n",
        "from sklearn import preprocessing\r\n",
        "from sklearn.model_selection import train_test_split\r\n",
        "\r\n",
        "from sklearn.linear_model import LinearRegression, Ridge, Lasso\r\n",
        "from sklearn.metrics import r2_score\r\n",
        "\r\n",
        "#Fit classical regression model as we did above\r\n",
        "regression_model = LinearRegression()\r\n",
        "regression_model.fit(X_train, y_train)\r\n",
        "\r\n",
        "print(f'Regression model coef: {regression_model.coef_}')\r\n",
        "\r\n",
        "#Consider the new data frame without outliers and the scaled values for Ridge and Lasso regression models\r\n",
        "alpha = 0.01\r\n",
        "#alpha factor here is lambda (penalty term) which helps to reduce the magnitude of coeff\r\n",
        "ridge_model = Ridge(alpha = alpha)\r\n",
        "ridge_model.fit(X_train, y_train)\r\n",
        "\r\n",
        "print(f'Ridge model coef: {ridge_model.coef_}')\r\n",
        "\r\n",
        "lasso_model = Lasso(alpha = alpha)\r\n",
        "lasso_model.fit(X_train, y_train)\r\n",
        "\r\n",
        "print(f'Lasso model coef: {lasso_model.coef_}')"
      ],
      "execution_count": 69,
      "outputs": [
        {
          "output_type": "stream",
          "text": [
            "Regression model coef: [-5.55836433e-01 -2.03757649e-01  7.18909403e-02  1.99840144e-15\n",
            " -1.31980538e+00  3.81737665e+00 -8.18783743e-01 -2.17962278e+00\n",
            "  1.28065600e+00 -1.60433267e+00 -1.91345975e+00  1.06531000e-01\n",
            " -2.18108435e+00]\n",
            "Ridge model coef: [-0.55566903 -0.20381749  0.07165338  0.         -1.31947173  3.81730598\n",
            " -0.81872984 -2.17932303  1.2799644  -1.60374648 -1.9133501   0.10656575\n",
            " -2.18112525]\n",
            "Lasso model coef: [-0.50528956 -0.20161995  0.          0.         -1.24787706  3.82096669\n",
            " -0.80307239 -2.13697142  1.11453902 -1.47418356 -1.88022311  0.10253461\n",
            " -2.18854797]\n"
          ],
          "name": "stdout"
        }
      ]
    },
    {
      "cell_type": "code",
      "metadata": {
        "colab": {
          "base_uri": "https://localhost:8080/"
        },
        "id": "KLbEmAMQQwMH",
        "outputId": "a6baa0cd-4fa3-4c6f-c4d9-849e49b3882e"
      },
      "source": [
        "#For the model comparison part \r\n",
        "\r\n",
        "#Model score - r^2 or coeff of determinant\r\n",
        "#r^2 = 1-(RSS/TSS) = Regression error/TSS \r\n",
        "\r\n",
        "print(\"alpha: \", str(alpha))\r\n",
        "#Simple Linear Model\r\n",
        "print(\"Simple Train: \", regression_model.score(X_train, y_train))\r\n",
        "print(\"Simple Test: \", regression_model.score(X_test, y_test))\r\n",
        "print('*************************')\r\n",
        "#Lasso\r\n",
        "print(\"Lasso Train: \", lasso_model.score(X_train, y_train))\r\n",
        "print(\"Lasso Test: \", lasso_model.score(X_test, y_test))\r\n",
        "print('*************************')\r\n",
        "#Ridge\r\n",
        "print(\"Ridge Train: \", ridge_model.score(X_train, y_train))\r\n",
        "print(\"Ridge Test: \", ridge_model.score(X_test, y_test))"
      ],
      "execution_count": 71,
      "outputs": [
        {
          "output_type": "stream",
          "text": [
            "alpha:  0.01\n",
            "Simple Train:  0.7598701100873174\n",
            "Simple Test:  0.6739782514175502\n",
            "*************************\n",
            "Lasso Train:  0.759787180494933\n",
            "Lasso Test:  0.6725492564109662\n",
            "*************************\n",
            "Ridge Train:  0.7598701083501025\n",
            "Ridge Test:  0.6739760768482248\n"
          ],
          "name": "stdout"
        }
      ]
    },
    {
      "cell_type": "code",
      "metadata": {
        "colab": {
          "base_uri": "https://localhost:8080/"
        },
        "id": "cbpgI_YjRjhH",
        "outputId": "f9dd27cd-39e1-47dd-a95c-12e7f816fb1a"
      },
      "source": [
        "# Repeat for different alpha values: \r\n",
        "alpha = 0.02\r\n",
        "#alpha factor here is lambda (penalty term) which helps to reduce the magnitude of coeff\r\n",
        "ridge_model = Ridge(alpha = alpha)\r\n",
        "ridge_model.fit(X_train, y_train)\r\n",
        "\r\n",
        "lasso_model = Lasso(alpha = alpha)\r\n",
        "lasso_model.fit(X_train, y_train)\r\n",
        "\r\n",
        "print(\"alpha: \", str(alpha))\r\n",
        "#Simple Linear Model\r\n",
        "print(\"Simple Train: \", regression_model.score(X_train, y_train))\r\n",
        "print(\"Simple Test: \", regression_model.score(X_test, y_test))\r\n",
        "print('*************************')\r\n",
        "#Lasso\r\n",
        "print(\"Lasso Train: \", lasso_model.score(X_train, y_train))\r\n",
        "print(\"Lasso Test: \", lasso_model.score(X_test, y_test))\r\n",
        "print('*************************')\r\n",
        "#Ridge\r\n",
        "print(\"Ridge Train: \", ridge_model.score(X_train, y_train))\r\n",
        "print(\"Ridge Test: \", ridge_model.score(X_test, y_test))\r\n"
      ],
      "execution_count": 72,
      "outputs": [
        {
          "output_type": "stream",
          "text": [
            "alpha:  0.2\n",
            "Simple Train:  0.7598701100873174\n",
            "Simple Test:  0.6739782514175502\n",
            "*************************\n",
            "Lasso Train:  0.7487561203237254\n",
            "Lasso Test:  0.6585693957032874\n",
            "*************************\n",
            "Ridge Train:  0.7598694237739457\n",
            "Ridge Test:  0.6739352226385354\n"
          ],
          "name": "stdout"
        }
      ]
    },
    {
      "cell_type": "code",
      "metadata": {
        "colab": {
          "base_uri": "https://localhost:8080/"
        },
        "id": "3V_ml6zkRxih",
        "outputId": "85c43ede-d92e-4f6b-ddca-4ab2df95a206"
      },
      "source": [
        "# Repeat for different alpha values: \r\n",
        "alpha = 0.03\r\n",
        "#alpha factor here is lambda (penalty term) which helps to reduce the magnitude of coeff\r\n",
        "ridge_model = Ridge(alpha = alpha)\r\n",
        "ridge_model.fit(X_train, y_train)\r\n",
        "\r\n",
        "lasso_model = Lasso(alpha = alpha)\r\n",
        "lasso_model.fit(X_train, y_train)\r\n",
        "\r\n",
        "print(\"alpha: \", str(alpha))\r\n",
        "#Simple Linear Model\r\n",
        "print(\"Simple Train: \", regression_model.score(X_train, y_train))\r\n",
        "print(\"Simple Test: \", regression_model.score(X_test, y_test))\r\n",
        "print('*************************')\r\n",
        "#Lasso\r\n",
        "print(\"Lasso Train: \", lasso_model.score(X_train, y_train))\r\n",
        "print(\"Lasso Test: \", lasso_model.score(X_test, y_test))\r\n",
        "print('*************************')\r\n",
        "#Ridge\r\n",
        "print(\"Ridge Train: \", ridge_model.score(X_train, y_train))\r\n",
        "print(\"Ridge Test: \", ridge_model.score(X_test, y_test))"
      ],
      "execution_count": 73,
      "outputs": [
        {
          "output_type": "stream",
          "text": [
            "alpha:  0.03\n",
            "Simple Train:  0.7598701100873174\n",
            "Simple Test:  0.6739782514175502\n",
            "*************************\n",
            "Lasso Train:  0.7592917320704202\n",
            "Lasso Test:  0.669578948886594\n",
            "*************************\n",
            "Ridge Train:  0.7598700944729171\n",
            "Ridge Test:  0.6739717350517809\n"
          ],
          "name": "stdout"
        }
      ]
    },
    {
      "cell_type": "code",
      "metadata": {
        "colab": {
          "base_uri": "https://localhost:8080/"
        },
        "id": "ocHHDP0bR2H4",
        "outputId": "f3023578-7111-409d-be6e-aa1e238e6bfe"
      },
      "source": [
        "# Repeat for different alpha values: \r\n",
        "alpha = 0.04\r\n",
        "#alpha factor here is lambda (penalty term) which helps to reduce the magnitude of coeff\r\n",
        "ridge_model = Ridge(alpha = alpha)\r\n",
        "ridge_model.fit(X_train, y_train)\r\n",
        "\r\n",
        "lasso_model = Lasso(alpha = alpha)\r\n",
        "lasso_model.fit(X_train, y_train)\r\n",
        "\r\n",
        "print(\"alpha: \", str(alpha))\r\n",
        "#Simple Linear Model\r\n",
        "print(\"Simple Train: \", regression_model.score(X_train, y_train))\r\n",
        "print(\"Simple Test: \", regression_model.score(X_test, y_test))\r\n",
        "print('*************************')\r\n",
        "#Lasso\r\n",
        "print(\"Lasso Train: \", lasso_model.score(X_train, y_train))\r\n",
        "print(\"Lasso Test: \", lasso_model.score(X_test, y_test))\r\n",
        "print('*************************')\r\n",
        "#Ridge\r\n",
        "print(\"Ridge Train: \", ridge_model.score(X_train, y_train))\r\n",
        "print(\"Ridge Test: \", ridge_model.score(X_test, y_test))"
      ],
      "execution_count": 74,
      "outputs": [
        {
          "output_type": "stream",
          "text": [
            "alpha:  0.04\n",
            "Simple Train:  0.7598701100873174\n",
            "Simple Test:  0.6739782514175502\n",
            "*************************\n",
            "Lasso Train:  0.7588571828405124\n",
            "Lasso Test:  0.6678622649119209\n",
            "*************************\n",
            "Ridge Train:  0.7598700823465996\n",
            "Ridge Test:  0.6739695678202171\n"
          ],
          "name": "stdout"
        }
      ]
    },
    {
      "cell_type": "code",
      "metadata": {
        "colab": {
          "base_uri": "https://localhost:8080/"
        },
        "id": "aMZwn_RNR3Xh",
        "outputId": "397c573f-cc3c-4b24-e085-eface37b1eb8"
      },
      "source": [
        "# Repeat for different alpha values: \r\n",
        "alpha = 0.05\r\n",
        "#alpha factor here is lambda (penalty term) which helps to reduce the magnitude of coeff\r\n",
        "ridge_model = Ridge(alpha = alpha)\r\n",
        "ridge_model.fit(X_train, y_train)\r\n",
        "\r\n",
        "lasso_model = Lasso(alpha = alpha)\r\n",
        "lasso_model.fit(X_train, y_train)\r\n",
        "\r\n",
        "print(\"alpha: \", str(alpha))\r\n",
        "#Simple Linear Model\r\n",
        "print(\"Simple Train: \", regression_model.score(X_train, y_train))\r\n",
        "print(\"Simple Test: \", regression_model.score(X_test, y_test))\r\n",
        "print('*************************')\r\n",
        "#Lasso\r\n",
        "print(\"Lasso Train: \", lasso_model.score(X_train, y_train))\r\n",
        "print(\"Lasso Test: \", lasso_model.score(X_test, y_test))\r\n",
        "print('*************************')\r\n",
        "#Ridge\r\n",
        "print(\"Ridge Train: \", ridge_model.score(X_train, y_train))\r\n",
        "print(\"Ridge Test: \", ridge_model.score(X_test, y_test))"
      ],
      "execution_count": 75,
      "outputs": [
        {
          "output_type": "stream",
          "text": [
            "alpha:  0.05\n",
            "Simple Train:  0.7598701100873174\n",
            "Simple Test:  0.6739782514175502\n",
            "*************************\n",
            "Lasso Train:  0.75829812765769\n",
            "Lasso Test:  0.6660053699050918\n",
            "*************************\n",
            "Ridge Train:  0.7598700667708702\n",
            "Ridge Test:  0.6739674030301268\n"
          ],
          "name": "stdout"
        }
      ]
    },
    {
      "cell_type": "markdown",
      "metadata": {
        "id": "AznBXj5rSBxK"
      },
      "source": [
        "Note: Among the three regression modeling, Linear regression and ridge one seems more plausible comparable to lasso model. In terms of train data set, linear and ridge has almost the same score values and this is same for test data either. When 5 different alpha values are compared, both ridge and lasso has larger scores for both training and test data set when alpha=0.03. \r\n"
      ]
    },
    {
      "cell_type": "code",
      "metadata": {
        "id": "_le9nV7_SnkW"
      },
      "source": [
        ""
      ],
      "execution_count": null,
      "outputs": []
    }
  ]
}